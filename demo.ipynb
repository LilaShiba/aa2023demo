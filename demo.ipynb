{
 "cells": [
  {
   "cell_type": "code",
   "execution_count": 1,
   "id": "5c13986f",
   "metadata": {},
   "outputs": [],
   "source": [
    "import numpy as np\n",
    "import pandas as pd\n",
    "import matplotlib.pyplot as plt\n",
    "import collections\n",
    "from collections import defaultdict\n",
    "import seaborn as sns\n",
    "import scipy as sp"
   ]
  },
  {
   "cell_type": "code",
   "execution_count": 2,
   "id": "e7dce412",
   "metadata": {},
   "outputs": [
    {
     "name": "stderr",
     "output_type": "stream",
     "text": [
      "/var/folders/px/rn3ttr855cb9h3ppww7dmvf40000gn/T/ipykernel_33982/581783842.py:1: DtypeWarning: Columns (6,12) have mixed types. Specify dtype option on import or set low_memory=False.\n",
      "  df = pd.read_csv('data/ug.csv')\n"
     ]
    },
    {
     "data": {
      "text/html": [
       "<div>\n",
       "<style scoped>\n",
       "    .dataframe tbody tr th:only-of-type {\n",
       "        vertical-align: middle;\n",
       "    }\n",
       "\n",
       "    .dataframe tbody tr th {\n",
       "        vertical-align: top;\n",
       "    }\n",
       "\n",
       "    .dataframe thead th {\n",
       "        text-align: right;\n",
       "    }\n",
       "</style>\n",
       "<table border=\"1\" class=\"dataframe\">\n",
       "  <thead>\n",
       "    <tr style=\"text-align: right;\">\n",
       "      <th></th>\n",
       "      <th>ACTCOMP</th>\n",
       "      <th>SATCOMP</th>\n",
       "      <th>HS_GPA</th>\n",
       "      <th>gender</th>\n",
       "      <th>ethnicity</th>\n",
       "      <th>accepted</th>\n",
       "      <th>enrolled</th>\n",
       "      <th>year_incoming</th>\n",
       "      <th>inst</th>\n",
       "      <th>residency</th>\n",
       "      <th>SATV</th>\n",
       "      <th>SATM</th>\n",
       "      <th>athlete</th>\n",
       "      <th>accept</th>\n",
       "      <th>enroll</th>\n",
       "    </tr>\n",
       "  </thead>\n",
       "  <tbody>\n",
       "    <tr>\n",
       "      <th>0</th>\n",
       "      <td>16.0</td>\n",
       "      <td>830.0</td>\n",
       "      <td>2.38</td>\n",
       "      <td>F</td>\n",
       "      <td>W</td>\n",
       "      <td>Y</td>\n",
       "      <td>N</td>\n",
       "      <td>2006.0</td>\n",
       "      <td>Concord</td>\n",
       "      <td>0</td>\n",
       "      <td>NaN</td>\n",
       "      <td>NaN</td>\n",
       "      <td>NaN</td>\n",
       "      <td>1.0</td>\n",
       "      <td>0.0</td>\n",
       "    </tr>\n",
       "    <tr>\n",
       "      <th>1</th>\n",
       "      <td>NaN</td>\n",
       "      <td>NaN</td>\n",
       "      <td>NaN</td>\n",
       "      <td>F</td>\n",
       "      <td>W</td>\n",
       "      <td>Y</td>\n",
       "      <td>N</td>\n",
       "      <td>2006.0</td>\n",
       "      <td>Concord</td>\n",
       "      <td>0</td>\n",
       "      <td>NaN</td>\n",
       "      <td>NaN</td>\n",
       "      <td>NaN</td>\n",
       "      <td>1.0</td>\n",
       "      <td>0.0</td>\n",
       "    </tr>\n",
       "    <tr>\n",
       "      <th>2</th>\n",
       "      <td>18.0</td>\n",
       "      <td>830.0</td>\n",
       "      <td>2.87</td>\n",
       "      <td>M</td>\n",
       "      <td>B</td>\n",
       "      <td>Y</td>\n",
       "      <td>N</td>\n",
       "      <td>2006.0</td>\n",
       "      <td>Concord</td>\n",
       "      <td>0</td>\n",
       "      <td>NaN</td>\n",
       "      <td>NaN</td>\n",
       "      <td>NaN</td>\n",
       "      <td>1.0</td>\n",
       "      <td>0.0</td>\n",
       "    </tr>\n",
       "    <tr>\n",
       "      <th>3</th>\n",
       "      <td>NaN</td>\n",
       "      <td>NaN</td>\n",
       "      <td>NaN</td>\n",
       "      <td>M</td>\n",
       "      <td>W</td>\n",
       "      <td>Y</td>\n",
       "      <td>Y</td>\n",
       "      <td>2006.0</td>\n",
       "      <td>Concord</td>\n",
       "      <td>0</td>\n",
       "      <td>NaN</td>\n",
       "      <td>NaN</td>\n",
       "      <td>NaN</td>\n",
       "      <td>1.0</td>\n",
       "      <td>1.0</td>\n",
       "    </tr>\n",
       "    <tr>\n",
       "      <th>4</th>\n",
       "      <td>NaN</td>\n",
       "      <td>NaN</td>\n",
       "      <td>NaN</td>\n",
       "      <td>F</td>\n",
       "      <td>B</td>\n",
       "      <td>N</td>\n",
       "      <td>N</td>\n",
       "      <td>2006.0</td>\n",
       "      <td>Concord</td>\n",
       "      <td>0</td>\n",
       "      <td>NaN</td>\n",
       "      <td>NaN</td>\n",
       "      <td>NaN</td>\n",
       "      <td>0.0</td>\n",
       "      <td>0.0</td>\n",
       "    </tr>\n",
       "  </tbody>\n",
       "</table>\n",
       "</div>"
      ],
      "text/plain": [
       "   ACTCOMP  SATCOMP  HS_GPA gender ethnicity accepted enrolled  year_incoming  \\\n",
       "0     16.0    830.0    2.38      F         W        Y        N         2006.0   \n",
       "1      NaN      NaN     NaN      F         W        Y        N         2006.0   \n",
       "2     18.0    830.0    2.87      M         B        Y        N         2006.0   \n",
       "3      NaN      NaN     NaN      M         W        Y        Y         2006.0   \n",
       "4      NaN      NaN     NaN      F         B        N        N         2006.0   \n",
       "\n",
       "      inst  residency  SATV  SATM athlete  accept  enroll  \n",
       "0  Concord          0   NaN   NaN     NaN     1.0     0.0  \n",
       "1  Concord          0   NaN   NaN     NaN     1.0     0.0  \n",
       "2  Concord          0   NaN   NaN     NaN     1.0     0.0  \n",
       "3  Concord          0   NaN   NaN     NaN     1.0     1.0  \n",
       "4  Concord          0   NaN   NaN     NaN     0.0     0.0  "
      ]
     },
     "execution_count": 2,
     "metadata": {},
     "output_type": "execute_result"
    }
   ],
   "source": [
    "df = pd.read_csv('data/ug.csv')\n",
    "#df = df.dropna()\n",
    "n = len(df)\n",
    "m = len(df.iloc[0])\n",
    "df.head()\n"
   ]
  },
  {
   "cell_type": "code",
   "execution_count": 3,
   "id": "7950b39e",
   "metadata": {},
   "outputs": [
    {
     "data": {
      "text/plain": [
       "(array([504777.,  73621.,   8623.,      0.,  71514., 101000.,      0.,\n",
       "          8887.,   8393.,  26855.]),\n",
       " array([0. , 0.7, 1.4, 2.1, 2.8, 3.5, 4.2, 4.9, 5.6, 6.3, 7. ]),\n",
       " <BarContainer object of 10 artists>)"
      ]
     },
     "execution_count": 3,
     "metadata": {},
     "output_type": "execute_result"
    },
    {
     "data": {
      "image/png": "[encoded data removed]",
      "text/plain": [
       "<Figure size 640x480 with 1 Axes>"
      ]
     },
     "metadata": {},
     "output_type": "display_data"
    }
   ],
   "source": [
    "# Ethnicity & Accepted\n",
    "df = df[df['ethnicity'].notna()]\n",
    "df = df[df['accepted'].notna()]\n",
    "x = list(df['ethnicity'])\n",
    "y = list(df['accepted'])\n",
    "plt.hist(x)"
   ]
  },
  {
   "cell_type": "code",
   "execution_count": 4,
   "id": "83666e87",
   "metadata": {},
   "outputs": [
    {
     "name": "stderr",
     "output_type": "stream",
     "text": [
      "/var/folders/px/rn3ttr855cb9h3ppww7dmvf40000gn/T/ipykernel_33982/1252663438.py:2: SettingWithCopyWarning: \n",
      "A value is trying to be set on a copy of a slice from a DataFrame\n",
      "\n",
      "See the caveats in the documentation: https://pandas.pydata.org/pandas-docs/stable/user_guide/indexing.html#returning-a-view-versus-a-copy\n",
      "  df['accepted'][df['accepted'] == \"Y\"] = 1.0\n",
      "/var/folders/px/rn3ttr855cb9h3ppww7dmvf40000gn/T/ipykernel_33982/1252663438.py:3: SettingWithCopyWarning: \n",
      "A value is trying to be set on a copy of a slice from a DataFrame\n",
      "\n",
      "See the caveats in the documentation: https://pandas.pydata.org/pandas-docs/stable/user_guide/indexing.html#returning-a-view-versus-a-copy\n",
      "  df['accepted'][df['accepted'] == \"N\"] = 0.0\n"
     ]
    },
    {
     "data": {
      "text/html": [
       "<div>\n",
       "<style scoped>\n",
       "    .dataframe tbody tr th:only-of-type {\n",
       "        vertical-align: middle;\n",
       "    }\n",
       "\n",
       "    .dataframe tbody tr th {\n",
       "        vertical-align: top;\n",
       "    }\n",
       "\n",
       "    .dataframe thead th {\n",
       "        text-align: right;\n",
       "    }\n",
       "</style>\n",
       "<table border=\"1\" class=\"dataframe\">\n",
       "  <thead>\n",
       "    <tr style=\"text-align: right;\">\n",
       "      <th></th>\n",
       "      <th>ACTCOMP</th>\n",
       "      <th>SATCOMP</th>\n",
       "      <th>HS_GPA</th>\n",
       "      <th>gender</th>\n",
       "      <th>ethnicity</th>\n",
       "      <th>accepted</th>\n",
       "      <th>enrolled</th>\n",
       "      <th>year_incoming</th>\n",
       "      <th>inst</th>\n",
       "      <th>residency</th>\n",
       "      <th>SATV</th>\n",
       "      <th>SATM</th>\n",
       "      <th>athlete</th>\n",
       "      <th>accept</th>\n",
       "      <th>enroll</th>\n",
       "    </tr>\n",
       "  </thead>\n",
       "  <tbody>\n",
       "    <tr>\n",
       "      <th>0</th>\n",
       "      <td>16.0</td>\n",
       "      <td>830.0</td>\n",
       "      <td>2.38</td>\n",
       "      <td>F</td>\n",
       "      <td>W</td>\n",
       "      <td>1.0</td>\n",
       "      <td>N</td>\n",
       "      <td>2006.0</td>\n",
       "      <td>Concord</td>\n",
       "      <td>0</td>\n",
       "      <td>NaN</td>\n",
       "      <td>NaN</td>\n",
       "      <td>NaN</td>\n",
       "      <td>1.0</td>\n",
       "      <td>0.0</td>\n",
       "    </tr>\n",
       "    <tr>\n",
       "      <th>1</th>\n",
       "      <td>NaN</td>\n",
       "      <td>NaN</td>\n",
       "      <td>NaN</td>\n",
       "      <td>F</td>\n",
       "      <td>W</td>\n",
       "      <td>1.0</td>\n",
       "      <td>N</td>\n",
       "      <td>2006.0</td>\n",
       "      <td>Concord</td>\n",
       "      <td>0</td>\n",
       "      <td>NaN</td>\n",
       "      <td>NaN</td>\n",
       "      <td>NaN</td>\n",
       "      <td>1.0</td>\n",
       "      <td>0.0</td>\n",
       "    </tr>\n",
       "    <tr>\n",
       "      <th>2</th>\n",
       "      <td>18.0</td>\n",
       "      <td>830.0</td>\n",
       "      <td>2.87</td>\n",
       "      <td>M</td>\n",
       "      <td>B</td>\n",
       "      <td>1.0</td>\n",
       "      <td>N</td>\n",
       "      <td>2006.0</td>\n",
       "      <td>Concord</td>\n",
       "      <td>0</td>\n",
       "      <td>NaN</td>\n",
       "      <td>NaN</td>\n",
       "      <td>NaN</td>\n",
       "      <td>1.0</td>\n",
       "      <td>0.0</td>\n",
       "    </tr>\n",
       "    <tr>\n",
       "      <th>3</th>\n",
       "      <td>NaN</td>\n",
       "      <td>NaN</td>\n",
       "      <td>NaN</td>\n",
       "      <td>M</td>\n",
       "      <td>W</td>\n",
       "      <td>1.0</td>\n",
       "      <td>Y</td>\n",
       "      <td>2006.0</td>\n",
       "      <td>Concord</td>\n",
       "      <td>0</td>\n",
       "      <td>NaN</td>\n",
       "      <td>NaN</td>\n",
       "      <td>NaN</td>\n",
       "      <td>1.0</td>\n",
       "      <td>1.0</td>\n",
       "    </tr>\n",
       "    <tr>\n",
       "      <th>4</th>\n",
       "      <td>NaN</td>\n",
       "      <td>NaN</td>\n",
       "      <td>NaN</td>\n",
       "      <td>F</td>\n",
       "      <td>B</td>\n",
       "      <td>0.0</td>\n",
       "      <td>N</td>\n",
       "      <td>2006.0</td>\n",
       "      <td>Concord</td>\n",
       "      <td>0</td>\n",
       "      <td>NaN</td>\n",
       "      <td>NaN</td>\n",
       "      <td>NaN</td>\n",
       "      <td>0.0</td>\n",
       "      <td>0.0</td>\n",
       "    </tr>\n",
       "  </tbody>\n",
       "</table>\n",
       "</div>"
      ],
      "text/plain": [
       "   ACTCOMP  SATCOMP  HS_GPA gender ethnicity accepted enrolled  year_incoming  \\\n",
       "0     16.0    830.0    2.38      F         W      1.0        N         2006.0   \n",
       "1      NaN      NaN     NaN      F         W      1.0        N         2006.0   \n",
       "2     18.0    830.0    2.87      M         B      1.0        N         2006.0   \n",
       "3      NaN      NaN     NaN      M         W      1.0        Y         2006.0   \n",
       "4      NaN      NaN     NaN      F         B      0.0        N         2006.0   \n",
       "\n",
       "      inst  residency  SATV  SATM athlete  accept  enroll  \n",
       "0  Concord          0   NaN   NaN     NaN     1.0     0.0  \n",
       "1  Concord          0   NaN   NaN     NaN     1.0     0.0  \n",
       "2  Concord          0   NaN   NaN     NaN     1.0     0.0  \n",
       "3  Concord          0   NaN   NaN     NaN     1.0     1.0  \n",
       "4  Concord          0   NaN   NaN     NaN     0.0     0.0  "
      ]
     },
     "execution_count": 4,
     "metadata": {},
     "output_type": "execute_result"
    }
   ],
   "source": [
    "# Clean via vector\n",
    "df['accepted'][df['accepted'] == \"Y\"] = 1.0\n",
    "df['accepted'][df['accepted'] == \"N\"] = 0.0\n",
    "df.head(5)"
   ]
  },
  {
   "cell_type": "code",
   "execution_count": 5,
   "id": "180c665d",
   "metadata": {},
   "outputs": [
    {
     "name": "stdout",
     "output_type": "stream",
     "text": [
      "ethnicity: B  Acceptance Rate: 0.44\n",
      "B mu: 797.81 sigma: 389.31\n",
      "ethnicity: W  Acceptance Rate: 0.66\n",
      "W mu: 941.1 sigma: 470.82\n",
      "ethnicity: A  Acceptance Rate: 0.62\n",
      "A mu: 1010.48 sigma: 386.27\n",
      "ethnicity: H  Acceptance Rate: 0.56\n",
      "H mu: 885.44 sigma: 325.52\n",
      "ethnicity: U  Acceptance Rate: 0.61\n",
      "U mu: 934.0 sigma: 425.79\n",
      "ethnicity: O  Acceptance Rate: 0.48\n",
      "O mu: 959.29 sigma: 364.23\n",
      "ethnicity: U  Acceptance Rate: 0.61\n",
      "U mu: 934.0 sigma: 425.79\n"
     ]
    }
   ],
   "source": [
    "\n",
    "def acceptanceRate(ethnicity):\n",
    "    \n",
    "    accepted = df[ (df['accepted'] == 1) & (df['ethnicity'] == ethnicity)]\n",
    "    notAccepted = df[(df['accepted'] == 0) & (df['ethnicity'] == ethnicity)]\n",
    "    t = len(accepted)\n",
    "    f = len(notAccepted)\n",
    "    print('ethnicity:',ethnicity,' Acceptance Rate:',round(t/(t+f),2))\n",
    "    return (round(t/(t+f),2),accepted,notAccepted)\n",
    "\n",
    "def scores(ethnicity,col):\n",
    "    tdf = df[(df['ethnicity'] == ethnicity)]\n",
    "    deltaVar = tdf[col]\n",
    "    # changing this value wow\n",
    "    #tdf = tdf[(tdf['HS_GPA'] >= 0) & (tdf['HS_GPA'] <= 4)]\n",
    "    mu = deltaVar.mean()\n",
    "    sigma = deltaVar.std()\n",
    "    print(ethnicity, 'mu:',round(mu,2),'sigma:',round(sigma,2))\n",
    "    bx = plt.boxplot(deltaVar,vert=False)\n",
    "    plt.close()\n",
    "    return mu,sigma,bx\n",
    "\n",
    "ethos = ['B','W','A','H','U','O','U']\n",
    "\n",
    "for etho in ethos:\n",
    "    acceptanceRate(etho)\n",
    "    scores(etho,'SATCOMP')\n"
   ]
  },
  {
   "cell_type": "code",
   "execution_count": 6,
   "id": "d35cf487",
   "metadata": {},
   "outputs": [
    {
     "name": "stdout",
     "output_type": "stream",
     "text": [
      "42.31092726195788\n",
      "111.1977475318279\n"
     ]
    },
    {
     "data": {
      "text/html": [
       "<div>\n",
       "<style scoped>\n",
       "    .dataframe tbody tr th:only-of-type {\n",
       "        vertical-align: middle;\n",
       "    }\n",
       "\n",
       "    .dataframe tbody tr th {\n",
       "        vertical-align: top;\n",
       "    }\n",
       "\n",
       "    .dataframe thead th {\n",
       "        text-align: right;\n",
       "    }\n",
       "</style>\n",
       "<table border=\"1\" class=\"dataframe\">\n",
       "  <thead>\n",
       "    <tr style=\"text-align: right;\">\n",
       "      <th></th>\n",
       "      <th>ACTCOMP</th>\n",
       "      <th>SATCOMP</th>\n",
       "      <th>HS_GPA</th>\n",
       "      <th>gender</th>\n",
       "      <th>ethnicity</th>\n",
       "      <th>accepted</th>\n",
       "      <th>enrolled</th>\n",
       "      <th>year_incoming</th>\n",
       "      <th>inst</th>\n",
       "      <th>residency</th>\n",
       "      <th>SATV</th>\n",
       "      <th>SATM</th>\n",
       "      <th>athlete</th>\n",
       "      <th>accept</th>\n",
       "      <th>enroll</th>\n",
       "    </tr>\n",
       "  </thead>\n",
       "  <tbody>\n",
       "    <tr>\n",
       "      <th>0</th>\n",
       "      <td>16.0</td>\n",
       "      <td>830.0</td>\n",
       "      <td>2.38</td>\n",
       "      <td>F</td>\n",
       "      <td>W</td>\n",
       "      <td>1.0</td>\n",
       "      <td>N</td>\n",
       "      <td>2006.0</td>\n",
       "      <td>Concord</td>\n",
       "      <td>0</td>\n",
       "      <td>NaN</td>\n",
       "      <td>NaN</td>\n",
       "      <td>NaN</td>\n",
       "      <td>1.0</td>\n",
       "      <td>0.0</td>\n",
       "    </tr>\n",
       "    <tr>\n",
       "      <th>2</th>\n",
       "      <td>18.0</td>\n",
       "      <td>830.0</td>\n",
       "      <td>2.87</td>\n",
       "      <td>M</td>\n",
       "      <td>B</td>\n",
       "      <td>1.0</td>\n",
       "      <td>N</td>\n",
       "      <td>2006.0</td>\n",
       "      <td>Concord</td>\n",
       "      <td>0</td>\n",
       "      <td>NaN</td>\n",
       "      <td>NaN</td>\n",
       "      <td>NaN</td>\n",
       "      <td>1.0</td>\n",
       "      <td>0.0</td>\n",
       "    </tr>\n",
       "    <tr>\n",
       "      <th>5</th>\n",
       "      <td>13.0</td>\n",
       "      <td>NaN</td>\n",
       "      <td>3.30</td>\n",
       "      <td>F</td>\n",
       "      <td>I</td>\n",
       "      <td>1.0</td>\n",
       "      <td>N</td>\n",
       "      <td>2006.0</td>\n",
       "      <td>Concord</td>\n",
       "      <td>0</td>\n",
       "      <td>NaN</td>\n",
       "      <td>NaN</td>\n",
       "      <td>NaN</td>\n",
       "      <td>1.0</td>\n",
       "      <td>0.0</td>\n",
       "    </tr>\n",
       "    <tr>\n",
       "      <th>6</th>\n",
       "      <td>NaN</td>\n",
       "      <td>830.0</td>\n",
       "      <td>3.37</td>\n",
       "      <td>F</td>\n",
       "      <td>W</td>\n",
       "      <td>0.0</td>\n",
       "      <td>N</td>\n",
       "      <td>2006.0</td>\n",
       "      <td>Concord</td>\n",
       "      <td>0</td>\n",
       "      <td>NaN</td>\n",
       "      <td>NaN</td>\n",
       "      <td>NaN</td>\n",
       "      <td>0.0</td>\n",
       "      <td>0.0</td>\n",
       "    </tr>\n",
       "  </tbody>\n",
       "</table>\n",
       "</div>"
      ],
      "text/plain": [
       "   ACTCOMP  SATCOMP  HS_GPA gender ethnicity accepted enrolled  year_incoming  \\\n",
       "0     16.0    830.0    2.38      F         W      1.0        N         2006.0   \n",
       "2     18.0    830.0    2.87      M         B      1.0        N         2006.0   \n",
       "5     13.0      NaN    3.30      F         I      1.0        N         2006.0   \n",
       "6      NaN    830.0    3.37      F         W      0.0        N         2006.0   \n",
       "\n",
       "      inst  residency  SATV  SATM athlete  accept  enroll  \n",
       "0  Concord          0   NaN   NaN     NaN     1.0     0.0  \n",
       "2  Concord          0   NaN   NaN     NaN     1.0     0.0  \n",
       "5  Concord          0   NaN   NaN     NaN     1.0     0.0  \n",
       "6  Concord          0   NaN   NaN     NaN     0.0     0.0  "
      ]
     },
     "execution_count": 6,
     "metadata": {},
     "output_type": "execute_result"
    },
    {
     "data": {
      "image/png": "[encoded data removed]",
      "text/plain": [
       "<Figure size 640x480 with 1 Axes>"
      ]
     },
     "metadata": {},
     "output_type": "display_data"
    }
   ],
   "source": [
    "# Clean data example how it changes scores\n",
    "print(df['HS_GPA'].mean())\n",
    "print(df['HS_GPA'].std())\n",
    "plt.boxplot(df['HS_GPA'],vert=False)\n",
    "# TODO: DEMO THIS LINE\n",
    "gpaCleaned = df[(df['HS_GPA'] >= 0) & (df['HS_GPA'] <= 5)]\n",
    "gpaCleaned.head(4)"
   ]
  },
  {
   "cell_type": "code",
   "execution_count": 7,
   "id": "8ec2fd15",
   "metadata": {},
   "outputs": [
    {
     "name": "stdout",
     "output_type": "stream",
     "text": [
      "ethnicity: B  Acceptance Rate: 0.44\n",
      "ethnicity: W  Acceptance Rate: 0.66\n",
      "ethnicity: A  Acceptance Rate: 0.62\n",
      "ethnicity: H  Acceptance Rate: 0.56\n"
     ]
    },
    {
     "data": {
      "image/png": "[encoded data removed]",
      "text/plain": [
       "<Figure size 640x480 with 1 Axes>"
      ]
     },
     "metadata": {},
     "output_type": "display_data"
    }
   ],
   "source": [
    "plt.boxplot(gpaCleaned['HS_GPA'],vert=False)\n",
    "r,y,n = acceptanceRate('B')\n",
    "r1,y1,n1 = acceptanceRate('W')\n",
    "r2,y2,n2 = acceptanceRate('A')\n",
    "r3,y3,n3 = acceptanceRate('H')"
   ]
  },
  {
   "cell_type": "code",
   "execution_count": 8,
   "id": "80cecd59",
   "metadata": {},
   "outputs": [
    {
     "data": {
      "text/plain": [
       "(array([2.9732e+04, 2.0000e+00, 2.1900e+02, 3.7730e+03, 2.2290e+04,\n",
       "        5.7999e+04, 7.8509e+04, 6.6335e+04, 3.2692e+04, 8.1540e+03]),\n",
       " array([   0.,  160.,  320.,  480.,  640.,  800.,  960., 1120., 1280.,\n",
       "        1440., 1600.]),\n",
       " <BarContainer object of 10 artists>)"
      ]
     },
     "execution_count": 8,
     "metadata": {},
     "output_type": "execute_result"
    },
    {
     "data": {
      "image/png": "[encoded data removed]",
      "text/plain": [
       "<Figure size 640x480 with 1 Axes>"
      ]
     },
     "metadata": {},
     "output_type": "display_data"
    }
   ],
   "source": [
    "plt.hist(gpaCleaned['SATCOMP'])"
   ]
  },
  {
   "cell_type": "code",
   "execution_count": 9,
   "id": "23cf80cf",
   "metadata": {},
   "outputs": [
    {
     "data": {
      "text/plain": [
       "{'whiskers': [<matplotlib.lines.Line2D at 0x7fcaa76274c0>,\n",
       "  <matplotlib.lines.Line2D at 0x7fcaa7627790>],\n",
       " 'caps': [<matplotlib.lines.Line2D at 0x7fcaa7627a60>,\n",
       "  <matplotlib.lines.Line2D at 0x7fcaa7627d30>],\n",
       " 'boxes': [<matplotlib.lines.Line2D at 0x7fcaa76271f0>],\n",
       " 'medians': [<matplotlib.lines.Line2D at 0x7fcaa7634040>],\n",
       " 'fliers': [<matplotlib.lines.Line2D at 0x7fcaa7634310>],\n",
       " 'means': []}"
      ]
     },
     "execution_count": 9,
     "metadata": {},
     "output_type": "execute_result"
    },
    {
     "data": {
      "image/png": "[encoded data removed]",
      "text/plain": [
       "<Figure size 640x480 with 1 Axes>"
      ]
     },
     "metadata": {},
     "output_type": "display_data"
    }
   ],
   "source": [
    "plt.boxplot(gpaCleaned['SATCOMP'].dropna(),vert=False)"
   ]
  },
  {
   "cell_type": "code",
   "execution_count": 10,
   "id": "3fda0032",
   "metadata": {},
   "outputs": [
    {
     "name": "stdout",
     "output_type": "stream",
     "text": [
      "{'MI State', 'IN State', 'US Coast Guard Academy', 'Auburn', 'Truman State', 'Humboldt State', 'SUNY Alfred', 'MA College of Art', 'GA Tech', 'Framingham', 'CSULB', 'MO State', 'Concord', 'Clemson', 'UNC Asheville', 'FL Atlantic', 'SE LA', 'Iowa', 'MN Twin Cities', 'NW MO State', 'IL Springfield', 'CSULA', 'Mesa State', 'Indiana', 'Miami of Ohio', 'KS', 'MN Morris', 'WI Stout', 'NC State', 'WA Bothell'}\n"
     ]
    }
   ],
   "source": [
    "print(set(gpaCleaned['inst']))"
   ]
  },
  {
   "cell_type": "code",
   "execution_count": 11,
   "id": "0d7333ee",
   "metadata": {},
   "outputs": [
    {
     "name": "stderr",
     "output_type": "stream",
     "text": [
      "/var/folders/px/rn3ttr855cb9h3ppww7dmvf40000gn/T/ipykernel_33982/1094907223.py:8: SettingWithCopyWarning: \n",
      "A value is trying to be set on a copy of a slice from a DataFrame.\n",
      "Try using .loc[row_indexer,col_indexer] = value instead\n",
      "\n",
      "See the caveats in the documentation: https://pandas.pydata.org/pandas-docs/stable/user_guide/indexing.html#returning-a-view-versus-a-copy\n",
      "  gpaCleaned['cat'] = gpaCleaned['ethnicity']\n",
      "/var/folders/px/rn3ttr855cb9h3ppww7dmvf40000gn/T/ipykernel_33982/1094907223.py:9: SettingWithCopyWarning: \n",
      "A value is trying to be set on a copy of a slice from a DataFrame\n",
      "\n",
      "See the caveats in the documentation: https://pandas.pydata.org/pandas-docs/stable/user_guide/indexing.html#returning-a-view-versus-a-copy\n",
      "  gpaCleaned['cat'].replace(m,colors,inplace=True)\n"
     ]
    },
    {
     "data": {
      "text/html": [
       "<div>\n",
       "<style scoped>\n",
       "    .dataframe tbody tr th:only-of-type {\n",
       "        vertical-align: middle;\n",
       "    }\n",
       "\n",
       "    .dataframe tbody tr th {\n",
       "        vertical-align: top;\n",
       "    }\n",
       "\n",
       "    .dataframe thead th {\n",
       "        text-align: right;\n",
       "    }\n",
       "</style>\n",
       "<table border=\"1\" class=\"dataframe\">\n",
       "  <thead>\n",
       "    <tr style=\"text-align: right;\">\n",
       "      <th></th>\n",
       "      <th>ACTCOMP</th>\n",
       "      <th>SATCOMP</th>\n",
       "      <th>HS_GPA</th>\n",
       "      <th>gender</th>\n",
       "      <th>ethnicity</th>\n",
       "      <th>accepted</th>\n",
       "      <th>enrolled</th>\n",
       "      <th>year_incoming</th>\n",
       "      <th>inst</th>\n",
       "      <th>residency</th>\n",
       "      <th>SATV</th>\n",
       "      <th>SATM</th>\n",
       "      <th>athlete</th>\n",
       "      <th>accept</th>\n",
       "      <th>enroll</th>\n",
       "      <th>cat</th>\n",
       "    </tr>\n",
       "  </thead>\n",
       "  <tbody>\n",
       "    <tr>\n",
       "      <th>0</th>\n",
       "      <td>16.0</td>\n",
       "      <td>830.0</td>\n",
       "      <td>2.38</td>\n",
       "      <td>F</td>\n",
       "      <td>W</td>\n",
       "      <td>1.0</td>\n",
       "      <td>N</td>\n",
       "      <td>2006.0</td>\n",
       "      <td>Concord</td>\n",
       "      <td>0</td>\n",
       "      <td>NaN</td>\n",
       "      <td>NaN</td>\n",
       "      <td>NaN</td>\n",
       "      <td>1.0</td>\n",
       "      <td>0.0</td>\n",
       "      <td>0</td>\n",
       "    </tr>\n",
       "    <tr>\n",
       "      <th>2</th>\n",
       "      <td>18.0</td>\n",
       "      <td>830.0</td>\n",
       "      <td>2.87</td>\n",
       "      <td>M</td>\n",
       "      <td>B</td>\n",
       "      <td>1.0</td>\n",
       "      <td>N</td>\n",
       "      <td>2006.0</td>\n",
       "      <td>Concord</td>\n",
       "      <td>0</td>\n",
       "      <td>NaN</td>\n",
       "      <td>NaN</td>\n",
       "      <td>NaN</td>\n",
       "      <td>1.0</td>\n",
       "      <td>0.0</td>\n",
       "      <td>1</td>\n",
       "    </tr>\n",
       "    <tr>\n",
       "      <th>5</th>\n",
       "      <td>13.0</td>\n",
       "      <td>NaN</td>\n",
       "      <td>3.30</td>\n",
       "      <td>F</td>\n",
       "      <td>I</td>\n",
       "      <td>1.0</td>\n",
       "      <td>N</td>\n",
       "      <td>2006.0</td>\n",
       "      <td>Concord</td>\n",
       "      <td>0</td>\n",
       "      <td>NaN</td>\n",
       "      <td>NaN</td>\n",
       "      <td>NaN</td>\n",
       "      <td>1.0</td>\n",
       "      <td>0.0</td>\n",
       "      <td>2</td>\n",
       "    </tr>\n",
       "    <tr>\n",
       "      <th>6</th>\n",
       "      <td>NaN</td>\n",
       "      <td>830.0</td>\n",
       "      <td>3.37</td>\n",
       "      <td>F</td>\n",
       "      <td>W</td>\n",
       "      <td>0.0</td>\n",
       "      <td>N</td>\n",
       "      <td>2006.0</td>\n",
       "      <td>Concord</td>\n",
       "      <td>0</td>\n",
       "      <td>NaN</td>\n",
       "      <td>NaN</td>\n",
       "      <td>NaN</td>\n",
       "      <td>0.0</td>\n",
       "      <td>0.0</td>\n",
       "      <td>0</td>\n",
       "    </tr>\n",
       "    <tr>\n",
       "      <th>7</th>\n",
       "      <td>NaN</td>\n",
       "      <td>960.0</td>\n",
       "      <td>3.83</td>\n",
       "      <td>M</td>\n",
       "      <td>W</td>\n",
       "      <td>1.0</td>\n",
       "      <td>N</td>\n",
       "      <td>2006.0</td>\n",
       "      <td>Concord</td>\n",
       "      <td>0</td>\n",
       "      <td>NaN</td>\n",
       "      <td>NaN</td>\n",
       "      <td>NaN</td>\n",
       "      <td>1.0</td>\n",
       "      <td>0.0</td>\n",
       "      <td>0</td>\n",
       "    </tr>\n",
       "  </tbody>\n",
       "</table>\n",
       "</div>"
      ],
      "text/plain": [
       "   ACTCOMP  SATCOMP  HS_GPA gender ethnicity accepted enrolled  year_incoming  \\\n",
       "0     16.0    830.0    2.38      F         W      1.0        N         2006.0   \n",
       "2     18.0    830.0    2.87      M         B      1.0        N         2006.0   \n",
       "5     13.0      NaN    3.30      F         I      1.0        N         2006.0   \n",
       "6      NaN    830.0    3.37      F         W      0.0        N         2006.0   \n",
       "7      NaN    960.0    3.83      M         W      1.0        N         2006.0   \n",
       "\n",
       "      inst  residency  SATV  SATM athlete  accept  enroll  cat  \n",
       "0  Concord          0   NaN   NaN     NaN     1.0     0.0    0  \n",
       "2  Concord          0   NaN   NaN     NaN     1.0     0.0    1  \n",
       "5  Concord          0   NaN   NaN     NaN     1.0     0.0    2  \n",
       "6  Concord          0   NaN   NaN     NaN     0.0     0.0    0  \n",
       "7  Concord          0   NaN   NaN     NaN     1.0     0.0    0  "
      ]
     },
     "execution_count": 11,
     "metadata": {},
     "output_type": "execute_result"
    }
   ],
   "source": [
    "m = list(gpaCleaned['ethnicity'].unique())\n",
    "n = range(len(m))\n",
    "gpa = list(gpaCleaned['HS_GPA'])\n",
    "y = list(gpaCleaned['ethnicity'])\n",
    "accepted =list(gpaCleaned['accepted'])\n",
    "colors = [i for i in n]\n",
    "# accept vs. accepted tricky trick\n",
    "gpaCleaned['cat'] = gpaCleaned['ethnicity']\n",
    "gpaCleaned['cat'].replace(m,colors,inplace=True)\n",
    "#gpaCleaned.head(5)\n",
    "gpaCleaned.corr()\n",
    "gpaCleaned.head(5)"
   ]
  },
  {
   "cell_type": "code",
   "execution_count": 19,
   "id": "43f1a88d",
   "metadata": {},
   "outputs": [
    {
     "name": "stdout",
     "output_type": "stream",
     "text": [
      "B :mu 797.81 sigma: 389.31\n",
      "W :mu 941.1 sigma: 470.82\n"
     ]
    },
    {
     "name": "stderr",
     "output_type": "stream",
     "text": [
      "/var/folders/px/rn3ttr855cb9h3ppww7dmvf40000gn/T/ipykernel_33982/3243661842.py:30: SettingWithCopyWarning: \n",
      "A value is trying to be set on a copy of a slice from a DataFrame.\n",
      "Try using .loc[row_indexer,col_indexer] = value instead\n",
      "\n",
      "See the caveats in the documentation: https://pandas.pydata.org/pandas-docs/stable/user_guide/indexing.html#returning-a-view-versus-a-copy\n",
      "  obj.col['accepted'] = obj.col['accepted'].astype(float)\n"
     ]
    },
    {
     "name": "stdout",
     "output_type": "stream",
     "text": [
      "A :mu 1010.48 sigma: 386.27\n",
      "H :mu 885.44 sigma: 325.52\n"
     ]
    }
   ],
   "source": [
    "class colByEth:\n",
    "    def __init__(self,mu,sigma,etho,col):\n",
    "        self.mu = mu\n",
    "        self.sigma = sigma\n",
    "        self.etho = etho\n",
    "        self.col = col\n",
    "        # changing this value wow\n",
    "        #tdf = tdf[(tdf['HS_GPA'] >= 0) & (tdf['HS_GPA'] <= 4)]\n",
    "        #self.info = print(etho, 'mu:',round(self.mu,2),'sigma:',round(self.sigma,2))\n",
    "        self.n = len(self.col[self.col['ethnicity']== etho])\n",
    "        self.bx = self.col[ (self.col['ethnicity']== etho) & (self.col['accepted']==1.0)]\n",
    "        self.arate = round(len(self.bx)/self.n,3)\n",
    "\n",
    "    \n",
    "    def t_test(x,y):\n",
    "        pass\n",
    "\n",
    "res = []\n",
    "def ScoresByEthos(etho,cols):\n",
    "    meow = df[ (df['ethnicity'] == etho)]\n",
    "    print(etho,':mu', round(meow[cols].mean(),2),'sigma:', \n",
    "          round(meow[cols].std(),2))\n",
    "    obj = colByEth(\n",
    "        round(meow[cols].mean(),2),\n",
    "        round(meow[cols].std(),2),\n",
    "        etho,\n",
    "        meow\n",
    "    )\n",
    "    \n",
    "    obj.col['accepted'] = obj.col['accepted'].astype(float)\n",
    "    return obj\n",
    "    \n",
    "for i in ['B','W','A','H']:\n",
    "    res.append(ScoresByEthos(i,'SATCOMP'))"
   ]
  },
  {
   "cell_type": "code",
   "execution_count": 32,
   "id": "baa76cdd",
   "metadata": {},
   "outputs": [
    {
     "data": {
      "text/plain": [
       "0.44"
      ]
     },
     "execution_count": 32,
     "metadata": {},
     "output_type": "execute_result"
    }
   ],
   "source": [
    "res[0].arate"
   ]
  },
  {
   "cell_type": "code",
   "execution_count": 36,
   "id": "40f1934f",
   "metadata": {},
   "outputs": [
    {
     "name": "stdout",
     "output_type": "stream",
     "text": [
      "-62.97482135156335\n",
      "0.0\n"
     ]
    }
   ],
   "source": [
    "# Cleaning NaNs Lesson Connection\n",
    "x = list(res[0].col['SATCOMP'].dropna())\n",
    "y = list(res[1].col['SATCOMP'].dropna())\n",
    "summary, results = sp.stats.ttest_ind(x,y)\n",
    "print(summary)\n",
    "print(results)"
   ]
  }
 ],
 "metadata": {
  "kernelspec": {
   "display_name": "Python 3 (ipykernel)",
   "language": "python",
   "name": "python3"
  },
  "language_info": {
   "codemirror_mode": {
    "name": "ipython",
    "version": 3
   },
   "file_extension": ".py",
   "mimetype": "text/x-python",
   "name": "python",
   "nbconvert_exporter": "python",
   "pygments_lexer": "ipython3",
   "version": "3.9.13"
  }
 },
 "nbformat": 4,
 "nbformat_minor": 5
}
